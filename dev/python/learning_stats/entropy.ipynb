{
 "cells": [
  {
   "cell_type": "code",
   "execution_count": 1,
   "metadata": {
    "collapsed": false
   },
   "outputs": [],
   "source": [
    "import numpy as np\n",
    "import scipy.stats as stats\n",
    "import matplotlib\n",
    "%matplotlib inline\n",
    "import matplotlib.pyplot as pp"
   ]
  },
  {
   "cell_type": "code",
   "execution_count": 14,
   "metadata": {
    "collapsed": true
   },
   "outputs": [],
   "source": [
    "sample_size=10000"
   ]
  },
  {
   "cell_type": "code",
   "execution_count": 20,
   "metadata": {
    "collapsed": false
   },
   "outputs": [],
   "source": [
    "s1 = np.random.normal(size=sample_size);\n",
    "s2 = np.random.normal(size=sample_size);\n",
    "s3 = np.random.normal(1.5, size=sample_size);\n",
    "s4 = np.random.normal(10, size=sample_size);"
   ]
  },
  {
   "cell_type": "code",
   "execution_count": 21,
   "metadata": {
    "collapsed": false
   },
   "outputs": [
    {
     "data": {
      "image/png": "[encoded data removed]",
      "text/plain": [
       "<matplotlib.figure.Figure at 0x7f54be2c2d90>"
      ]
     },
     "metadata": {},
     "output_type": "display_data"
    }
   ],
   "source": [
    "pp.close()\n",
    "pp.hist(s4, alpha=0.5, bins=50);\n",
    "pp.hist(s3, alpha=0.5, bins=50);\n",
    "pp.hist(s2, alpha=0.5, bins=50);\n",
    "pp.hist(s1, alpha=0.5, bins=50);"
   ]
  },
  {
   "cell_type": "code",
   "execution_count": 31,
   "metadata": {
    "collapsed": true
   },
   "outputs": [
    {
     "data": {
      "image/png": "[encoded data removed]",
      "text/plain": [
       "<matplotlib.figure.Figure at 0x7f54badd0f90>"
      ]
     },
     "metadata": {},
     "output_type": "display_data"
    }
   ],
   "source": [
    "pp.close()\n",
    "%config InlineBackend.close_figures=False\n",
    "\n",
    "pp.hist(s4, alpha=0.5, bins=50, cumulative=True, normed=True);\n",
    "pp.hist(s3, alpha=0.5, bins=50, cumulative=True, normed=True);\n",
    "pp.hist(s2, alpha=0.5, bins=50, cumulative=True, normed=True);\n",
    "pp.hist(s1, alpha=0.5, bins=50, cumulative=True, normed=True);"
   ]
  },
  {
   "cell_type": "code",
   "execution_count": 25,
   "metadata": {
    "collapsed": false
   },
   "outputs": [
    {
     "name": "stdout",
     "output_type": "stream",
     "text": [
      "ks difference between s1 and s2:  0.0136\n",
      "ks difference between s1 and s3:  0.5428\n",
      "ks difference between s1 and s4:  1.0\n"
     ]
    }
   ],
   "source": [
    "ks_s2=stats.ks_2samp(s1,s2)\n",
    "print 'ks difference between s1 and s2: ',ks_s2[0]\n",
    "ks_s3=stats.ks_2samp(s1,s3)\n",
    "print 'ks difference between s1 and s3: ',ks_s3[0]\n",
    "ks_s4=stats.ks_2samp(s1,s4)\n",
    "print 'ks difference between s1 and s4: ',ks_s4[0]"
   ]
  },
  {
   "cell_type": "code",
   "execution_count": 32,
   "metadata": {
    "collapsed": true
   },
   "outputs": [
    {
     "data": {
      "image/png": "[encoded data removed]",
      "text/plain": [
       "<matplotlib.figure.Figure at 0x7f54badd0f90>"
      ]
     },
     "metadata": {},
     "output_type": "display_data"
    }
   ],
   "source": [
    "pp.axvline(-1, ymin=0, ymax=0+ks_s2[0], color='r', label='max difference in cdf');\n",
    "pp.axvline(1, ymin=0.3, ymax=0.3+ks_s3[0], color='r', label='max difference in cdf');\n",
    "pp.axvline(13, ymin=0, ymax=0+ks_s4[0], color='r', label='max difference in cdf');"
   ]
  },
  {
   "cell_type": "code",
   "execution_count": 39,
   "metadata": {
    "collapsed": false
   },
   "outputs": [
    {
     "data": {
      "text/plain": [
       "15.924983383740182"
      ]
     },
     "execution_count": 39,
     "metadata": {},
     "output_type": "execute_result"
    }
   ],
   "source": [
    "stats.entropy(np.random.uniform(size=10000000))"
   ]
  }
 ],
 "metadata": {
  "kernelspec": {
   "display_name": "Python 2",
   "language": "python",
   "name": "python2"
  },
  "language_info": {
   "codemirror_mode": {
    "name": "ipython",
    "version": 2
   },
   "file_extension": ".py",
   "mimetype": "text/x-python",
   "name": "python",
   "nbconvert_exporter": "python",
   "pygments_lexer": "ipython2",
   "version": "2.7.6"
  }
 },
 "nbformat": 4,
 "nbformat_minor": 0
}
