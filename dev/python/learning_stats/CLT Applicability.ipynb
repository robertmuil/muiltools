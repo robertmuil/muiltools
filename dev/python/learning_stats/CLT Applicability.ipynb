{
 "cells": [
  {
   "cell_type": "markdown",
   "metadata": {
    "slideshow": {
     "slide_type": "slide"
    }
   },
   "source": [
    "This is me attempting to understand when the Central Limit Theorem is actually applicable and when not.\n",
    "\n",
    "##The Central Limit Theorem, in my words\n",
    "The arithmetic average of a **sufficient** number of instances of a random variable will be normally distributed, regardless of the underlying distribution of the random number itself, given that the underlying distribution has **certain properties**.\n",
    "\n",
    "Terminology:\n",
    " - sample: instances of a random variable\n",
    " - sample mean: arithmetic average of a sample\n",
    " - sample size: the number of instances in the sample i.e. number of individual data points\n",
    " - underlying distribution: the distribution generating instances of the random variable\n",
    "\n",
    "### **Sufficient** sample size\n",
    "What constitutes sufficent number of instances of a random variable?\n",
    "\n",
    "\n",
    "### **Certain Properties** of the underlying distribution\n",
    "\n",
    "What are the necessary properties of the underlying distribution?\n",
    "\n",
    "#### Defined Mean\n",
    "This is pretty clear: if the distribution does not have a defined mean, the CLT will not hold. Examples of distributions without a defined mean are:\n",
    " - Cauchy distribution (T-distribution with a degree-of-freedom of 1)\n",
    " - \n",
    " \n",
    "#### Defined Variance?\n"
   ]
  },
  {
   "cell_type": "code",
   "execution_count": 39,
   "metadata": {
    "collapsed": true,
    "slideshow": {
     "slide_type": "skip"
    }
   },
   "outputs": [],
   "source": [
    "from scipy import stats\n",
    "import numpy as np\n",
    "from matplotlib import pyplot as pp\n",
    "import seaborn\n",
    "%matplotlib inline"
   ]
  },
  {
   "cell_type": "markdown",
   "metadata": {
    "slideshow": {
     "slide_type": "slide"
    }
   },
   "source": [
    "# What about the Bernoulli Distribution?"
   ]
  },
  {
   "cell_type": "code",
   "execution_count": 42,
   "metadata": {
    "collapsed": true,
    "slideshow": {
     "slide_type": "subslide"
    }
   },
   "outputs": [],
   "source": [
    "sample_size_A = 100\n",
    "sample_size_B = 100\n",
    "\n",
    "mu_A = 0.04\n",
    "mu_B = 0.05\n",
    "\n",
    "n_trials = 1000\n",
    "\n",
    "A = stats.bernoulli.rvs(mu_A, size=sample_size_A)\n",
    "\n",
    "#pp.hist(A,bins=range(max(sample_size_A,sample_size_B)), alpha=0.5);\n",
    "#pp.hist(B,bins=range(max(sample_size_A,sample_size_B)), alpha=0.5);"
   ]
  },
  {
   "cell_type": "markdown",
   "metadata": {
    "slideshow": {
     "slide_type": "slide"
    }
   },
   "source": [
    "# The Binomial Distribution is a sum over Bernoulli variables..."
   ]
  },
  {
   "cell_type": "code",
   "execution_count": 49,
   "metadata": {
    "collapsed": false,
    "slideshow": {
     "slide_type": "subslide"
    }
   },
   "outputs": [
    {
     "data": {
      "image/png": "[encoded data removed]",
      "text/plain": [
       "<matplotlib.figure.Figure at 0x7fb187465410>"
      ]
     },
     "metadata": {},
     "output_type": "display_data"
    }
   ],
   "source": [
    "sample_size_A = 10000\n",
    "sample_size_B = 10000\n",
    "\n",
    "mu_A = 0.0001\n",
    "mu_B = 0.0004\n",
    "\n",
    "n_trials = 100000\n",
    "\n",
    "A = np.random.binomial(sample_size_A, mu_A, n_trials)\n",
    "B = np.random.binomial(sample_size_B, mu_B, n_trials)\n",
    "\n",
    "pp.hist(A,bins=100, alpha=0.5);\n",
    "pp.hist(B,bins=100, alpha=0.5);"
   ]
  },
  {
   "cell_type": "markdown",
   "metadata": {},
   "source": [
    "# Difference between Binomial Distributions\n",
    "... is also binomially distributed."
   ]
  },
  {
   "cell_type": "code",
   "execution_count": 48,
   "metadata": {
    "collapsed": false
   },
   "outputs": [
    {
     "data": {
      "image/png": "[encoded data removed]",
      "text/plain": [
       "<matplotlib.figure.Figure at 0x7fb1873bbfd0>"
      ]
     },
     "metadata": {},
     "output_type": "display_data"
    }
   ],
   "source": [
    "pp.hist(A-B,bins=100);"
   ]
  }
 ],
 "metadata": {
  "celltoolbar": "Slideshow",
  "kernelspec": {
   "display_name": "Python 2",
   "language": "python",
   "name": "python2"
  },
  "language_info": {
   "codemirror_mode": {
    "name": "ipython",
    "version": 2
   },
   "file_extension": ".py",
   "mimetype": "text/x-python",
   "name": "python",
   "nbconvert_exporter": "python",
   "pygments_lexer": "ipython2",
   "version": "2.7.6"
  }
 },
 "nbformat": 4,
 "nbformat_minor": 0
}
