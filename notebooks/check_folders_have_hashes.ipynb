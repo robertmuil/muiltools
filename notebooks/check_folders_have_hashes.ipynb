{
 "cells": [
  {
   "cell_type": "code",
   "execution_count": 1,
   "id": "dcd50a58-c624-437c-993a-bdbf4b0ca0e1",
   "metadata": {},
   "outputs": [
    {
     "data": {
      "text/plain": [
       "PosixPath('.')"
      ]
     },
     "execution_count": 1,
     "metadata": {},
     "output_type": "execute_result"
    }
   ],
   "source": [
    "import pathlib\n",
    "p_base = pathlib.Path('.')\n",
    "p_base"
   ]
  },
  {
   "cell_type": "code",
   "execution_count": 35,
   "id": "c87cf681-5b5c-4932-8272-26aee40a7c64",
   "metadata": {},
   "outputs": [],
   "source": [
    "from pprint import pprint"
   ]
  },
  {
   "cell_type": "code",
   "execution_count": 33,
   "id": "97fbb830-2390-4ab6-aa5e-c2e9a669172d",
   "metadata": {},
   "outputs": [],
   "source": [
    "hashes = {}\n",
    "for p_sub in p_base.iterdir():\n",
    "    if p_sub.is_dir():\n",
    "        #print(p_sub)\n",
    "        hashes[p_sub.name] = []\n",
    "\n",
    "    for yes in p_sub.glob('_dirhash*'):\n",
    "        #print(yes)\n",
    "        hashes[p_sub.name] += [yes.name]\n",
    "\n",
    "#print(hashes)"
   ]
  },
  {
   "cell_type": "code",
   "execution_count": 36,
   "id": "9f9e4f9e-ab25-4978-bf48-d3e4bd8c0583",
   "metadata": {},
   "outputs": [
    {
     "name": "stdout",
     "output_type": "stream",
     "text": [
      "['.ipynb_checkpoints']\n"
     ]
    }
   ],
   "source": [
    "pprint([h for h in hashes if len(hashes[h]) < 1])"
   ]
  },
  {
   "cell_type": "code",
   "execution_count": 38,
   "id": "f14fe6bc-c694-4513-a11c-ce95264e8446",
   "metadata": {},
   "outputs": [
    {
     "name": "stdout",
     "output_type": "stream",
     "text": [
      "['2012-08-04 - Chatel with Andrew',\n",
      " '2012-02-03 - Budapest with Jane and Andrew',\n",
      " '2012-06-12 - Niklases Junggesellenabschied in Slowenien',\n",
      " '2012-07-05 - Visiting Jane in Nice',\n",
      " '2012-08-24 - Nice and Corsica with Janey',\n",
      " '2012-09-09 - Barcelona BCBT Summer School',\n",
      " '2012-09-28 - Berlin for Radiohead with Jose and Adina',\n",
      " '2012-10-25 - Nijmegen for Donders',\n",
      " '2012 - Living in Germany',\n",
      " '2012-10 - Renovations in Australia (from Mom)',\n",
      " '.ipynb_checkpoints',\n",
      " '2012-12 - At Home in Ipswich, Australia']\n"
     ]
    }
   ],
   "source": [
    "pprint([h for h in hashes])"
   ]
  }
 ],
 "metadata": {
  "kernelspec": {
   "display_name": "Python 3 (ipykernel)",
   "language": "python",
   "name": "python3"
  },
  "language_info": {
   "codemirror_mode": {
    "name": "ipython",
    "version": 3
   },
   "file_extension": ".py",
   "mimetype": "text/x-python",
   "name": "python",
   "nbconvert_exporter": "python",
   "pygments_lexer": "ipython3",
   "version": "3.9.7"
  }
 },
 "nbformat": 4,
 "nbformat_minor": 5
}
